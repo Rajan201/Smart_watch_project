{
 "cells": [
  {
   "cell_type": "code",
   "execution_count": 27,
   "id": "34b13043",
   "metadata": {},
   "outputs": [
    {
     "name": "stdout",
     "output_type": "stream",
     "text": [
      "   Temperature  Heart Rate  Oxygen Saturation  Heart Attack\n",
      "0    37.621781   87.288651          95.983273             0\n",
      "1    41.655000   24.182430          96.073064             1\n",
      "2    40.123958   81.970081          92.475400             0\n",
      "3    39.190609   77.747332          95.584127             0\n",
      "4    36.092130   97.885874          92.255401             0\n"
     ]
    }
   ],
   "source": [
    "import pandas as pd\n",
    "import numpy as np\n",
    "\n",
    "df = pd.read_csv('heart_attack_prediction.csv')\n",
    "\n",
    "# Display the first few rows of the dataset\n",
    "print(df.head())\n",
    "\n",
    "# Save the DataFrame to a CSV file\n",
    "#df.to_csv('heart_attack_prediction.csv', index=False)\n"
   ]
  },
  {
   "cell_type": "code",
   "execution_count": 28,
   "id": "9faad6eb",
   "metadata": {},
   "outputs": [],
   "source": [
    "# Create a feature and target variable\n",
    "X = df.drop(['Heart Attack'], axis=1) # Features\n",
    "y = df['Heart Attack'] # Target\n"
   ]
  },
  {
   "cell_type": "code",
   "execution_count": 29,
   "id": "deb8f36f",
   "metadata": {},
   "outputs": [],
   "source": [
    "from sklearn.model_selection import train_test_split\n",
    "\n",
    "Xtrain, Xtest, Ytrain, Ytest = train_test_split(X, y, test_size=0.3, random_state=42)"
   ]
  },
  {
   "cell_type": "code",
   "execution_count": 30,
   "id": "4bcac15b",
   "metadata": {},
   "outputs": [
    {
     "name": "stdout",
     "output_type": "stream",
     "text": [
      "RF's Accuracy is:  100.0\n",
      "              precision    recall  f1-score   support\n",
      "\n",
      "           0       1.00      1.00      1.00       108\n",
      "           1       1.00      1.00      1.00        42\n",
      "\n",
      "    accuracy                           1.00       150\n",
      "   macro avg       1.00      1.00      1.00       150\n",
      "weighted avg       1.00      1.00      1.00       150\n",
      "\n"
     ]
    }
   ],
   "source": [
    "from sklearn.ensemble import RandomForestClassifier\n",
    "from sklearn.metrics import classification_report\n",
    "from sklearn import metrics\n",
    "RF = RandomForestClassifier(n_estimators=20, random_state=0)\n",
    "RF.fit(Xtrain,Ytrain)\n",
    "\n",
    "predicted_values = RF.predict(Xtest)\n",
    "\n",
    "x = metrics.accuracy_score(Ytest, predicted_values)\n",
    "\n",
    "print(\"RF's Accuracy is: \", x*100)\n",
    "\n",
    "print(classification_report(Ytest,predicted_values))"
   ]
  },
  {
   "cell_type": "code",
   "execution_count": 31,
   "id": "6c3b7b6c",
   "metadata": {},
   "outputs": [],
   "source": [
    "# SMS Notification Service Integration (Example using Twilio)\n",
    "from twilio.rest import Client"
   ]
  },
  {
   "cell_type": "code",
   "execution_count": 32,
   "id": "724e8e00",
   "metadata": {},
   "outputs": [],
   "source": [
    "#import geocoder\n",
    "\n",
    "#def get_current_gps_coordinates():\n",
    " #   g = geocoder.ip('me')\n",
    "  #  return g.latlng\n",
    "\n",
    "#latitude, longitude = get_current_gps_coordinates()\n",
    "#print(f\"Current Latitude: {latitude}\")\n",
    "#print(f\"Current Longitude: {longitude}\")\n"
   ]
  },
  {
   "cell_type": "code",
   "execution_count": 33,
   "id": "7eb5ac7d",
   "metadata": {},
   "outputs": [
    {
     "name": "stderr",
     "output_type": "stream",
     "text": [
      "C:\\ProgramData\\Anaconda3\\lib\\site-packages\\sklearn\\base.py:450: UserWarning: X does not have valid feature names, but RandomForestClassifier was fitted with feature names\n",
      "  warnings.warn(\n"
     ]
    },
    {
     "name": "stdout",
     "output_type": "stream",
     "text": [
      "Sending SMS notification...\n",
      "[1]\n"
     ]
    }
   ],
   "source": [
    "data = np.array([[41.655000,24.182430,96.073064 ]])\n",
    "prediction = RF.predict(data)\n",
    "# Your Twilio Account SID and Auth Token (replace with yours)\n",
    "account_sid = \"AC3aef8f8700117e0f7cc86fd5d89763ab\"\n",
    "auth_token = \"437f186c64439633ca76a4d20d41a94a\"\n",
    "client = Client(account_sid, auth_token)\n",
    "\n",
    "registered_mobile_numbers = [\"+917892778550\", \"+918660318653\", \"+918711968172\", \"+919108303524\"]\n",
    "\n",
    "if prediction == 1:\n",
    "    print(\"Sending SMS notification...\")\n",
    "    # Send SMS using Twilio API (replace with your registered mobile number)\n",
    "    for number in registered_mobile_numbers:\n",
    "        client.messages.create(\n",
    "        to=number,\n",
    "        from_=\"+12563990330\",\n",
    "        body=f\"Heart attack may occur. Seek medical attention immediately.\"\n",
    "    )\n",
    "else:\n",
    "    print(\" The person is Healthy \")\n",
    "print(prediction)"
   ]
  },
  {
   "cell_type": "code",
   "execution_count": 7,
   "id": "d17ac150",
   "metadata": {},
   "outputs": [],
   "source": [
    "import pickle\n",
    "# Dump the trained Naive Bayes classifier with Pickle\n",
    "RF_pkl_filename = 'RandomForest.pkl'\n",
    "# Open the file to save as pkl file\n",
    "RF_Model_pkl = open(RF_pkl_filename, 'wb')\n",
    "pickle.dump(RF, RF_Model_pkl)\n",
    "# Close the pickle instances\n",
    "RF_Model_pkl.close()"
   ]
  }
 ],
 "metadata": {
  "kernelspec": {
   "display_name": "Python 3 (ipykernel)",
   "language": "python",
   "name": "python3"
  },
  "language_info": {
   "codemirror_mode": {
    "name": "ipython",
    "version": 3
   },
   "file_extension": ".py",
   "mimetype": "text/x-python",
   "name": "python",
   "nbconvert_exporter": "python",
   "pygments_lexer": "ipython3",
   "version": "3.9.13"
  }
 },
 "nbformat": 4,
 "nbformat_minor": 5
}
